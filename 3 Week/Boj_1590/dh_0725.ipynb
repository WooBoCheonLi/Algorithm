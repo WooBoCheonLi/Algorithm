{
  "nbformat": 4,
  "nbformat_minor": 0,
  "metadata": {
    "colab": {
      "name": "dh_0725.ipynb",
      "provenance": []
    },
    "kernelspec": {
      "name": "python3",
      "display_name": "Python 3"
    },
    "language_info": {
      "name": "python"
    }
  },
  "cells": [
    {
      "cell_type": "code",
      "execution_count": 21,
      "metadata": {
        "colab": {
          "base_uri": "https://localhost:8080/"
        },
        "id": "2YnLX68z0Nke",
        "outputId": "b3fbc51c-b6cc-4422-9e04-50741c84c627"
      },
      "outputs": [
        {
          "output_type": "stream",
          "name": "stdout",
          "text": [
            "3 1\n",
            "270758 196 67\n",
            "904526 8930 66\n",
            "121164 3160 56\n",
            "[270757, 904525, 121163]\n",
            "121163\n"
          ]
        }
      ],
      "source": [
        "#1590 캠프가는 영식\n",
        "\"\"\"\n",
        "n:  버스의 종류\n",
        "T : 영식이가 터미널에 도착하는 시간\n",
        "s :버스 시작시간 i: 간격 c: 대수\n",
        "출력\n",
        "영식이가 기다려야하는 시간 \n",
        "영식 도착시간 = 버스 출발시간 ==> 0출력\n",
        "버스x => -1\n",
        "\"\"\"\n",
        "#틀림\n",
        "n,t =map(int,input().split())\n",
        "bus=[list(map(int,input().split())) for _ in range(n)]\n",
        "can=[]\n",
        "for s,i,c in bus:\n",
        "  if s<t and ((t-s)//i)+1<c-1:\n",
        "    a=s*((t-s)//i+1)-t\n",
        "    can.append(a)\n",
        "  elif s>=t:\n",
        "    can.append(s-t)\n",
        "print(min(can) if can else -1)\n"
      ]
    },
    {
      "cell_type": "code",
      "execution_count": 31,
      "metadata": {
        "colab": {
          "base_uri": "https://localhost:8080/"
        },
        "outputId": "5d376240-a766-480a-bf46-24c23a801e9d",
        "id": "IER9S-z9Rqv3"
      },
      "outputs": [
        {
          "output_type": "stream",
          "name": "stdout",
          "text": [
            "3 1\n",
            "270758 196 67\n",
            "904526 8930 66\n",
            "121164 3160 56\n",
            "121163\n"
          ]
        }
      ],
      "source": [
        "#1590 캠프가는 영식\n",
        "\"\"\"\n",
        "n:  버스의 종류\n",
        "T : 영식이가 터미널에 도착하는 시간\n",
        "s :버스 시작시간 i: 간격 c: 대수\n",
        "출력\n",
        "영식이가 기다려야하는 시간 \n",
        "영식 도착시간 = 버스 출발시간 ==> 0출력\n",
        "버스x => -1\n",
        "\"\"\"\n",
        "\n",
        "n,t =map(int,input().split())\n",
        "res=[] # 각 버스들의 최소 대기시간을 기록할 리스트  \n",
        "for _ in range(n):\n",
        "  s,i,c=map(int,input().split()) # 시작 , 배차간격, 개수\n",
        "  bus=[s+i*j for j in range(c)]  # 버스의 시간표를 리스트로 만들어서 저장함\n",
        "  if bus[-1]>= t:                # 버스의 마지막 출발시간이 도착시간과 같거나 늦은경우에 코드를 실행\n",
        "    start,min_t,end=0,0,c-1 \n",
        "    while start<= end:            \n",
        "      mid=(start+end)//2        \n",
        "      if bus[mid]>=t:           \n",
        "        min_t=mid               # 버스 시간이 도착시간보다 늦은 경우에 min_t에 인덱스 번호 저장\n",
        "        end=mid-1                       \n",
        "      else:\n",
        "        start=mid+1\n",
        "    res.append(bus[min_t]-t)  # 대기 시간= 버스출발시간 -버스 도착시간\n",
        "\n",
        "print(min(res) if res else -1)  #결과의 최솟값을 출력 res가 비었을시 -1 출력\n",
        "\n"
      ]
    }
  ]
}